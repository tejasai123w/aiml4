{
 "cells": [
  {
   "cell_type": "code",
   "execution_count": 3,
   "metadata": {},
   "outputs": [
    {
     "name": "stdout",
     "output_type": "stream",
     "text": [
      "Type of array1: <class 'numpy.ndarray'>\n",
      "Type of array2: <class 'numpy.ndarray'>\n",
      "Multiplication: [ 5 12 21 32]\n",
      "Division: [5.         3.         2.33333333 2.        ]\n",
      "Power off: [ 1  4  9 16]\n",
      "Addition of Two arrays: [1 2 3 4] + [5 6 7 8] = [ 6  8 10 12]\n",
      "Sin: [ 0.84147098  0.90929743  0.14112001 -0.7568025 ]\n",
      "Log: [0.         0.69314718 1.09861229 1.38629436]\n",
      "Log2: [0.        1.        1.5849625 2.       ]\n",
      "Exp: [ 2.71828183  7.3890561  20.08553692 54.59815003]\n"
     ]
    }
   ],
   "source": [
    "import numpy as np\n",
    "\n",
    "# 1. Lists\n",
    "list1 = [1, 2, 3, 4]\n",
    "list2 = [5, 6, 7, 8]\n",
    "\n",
    "# 2. Arrays using NumPy\n",
    "array1 = np.array(list1)\n",
    "array2 = np.array(list2)\n",
    "\n",
    "# 3. Identify their type using type()\n",
    "print(\"Type of array1:\", type(array1))\n",
    "print(\"Type of array2:\", type(array2))\n",
    "\n",
    "# 4. Perform mathematical operations\n",
    "# Multiplication\n",
    "result_multiply = array1 * array2\n",
    "print(\"Multiplication:\", result_multiply)\n",
    "\n",
    "# Division\n",
    "result_divide = array2 / array1\n",
    "print(\"Division:\", result_divide)\n",
    "\n",
    "# Power off (Exponentiation)\n",
    "result_poweroff = array1 ** 2\n",
    "print(\"Power off:\", result_poweroff)\n",
    "\n",
    "# 5. Combine text with NumPy function\n",
    "text_output = f\"Addition of Two arrays: {array1} + {array2} = {array1 + array2}\"\n",
    "print(text_output)\n",
    "\n",
    "# 6. Implement NumPy functions\n",
    "result_sin = np.sin(array1)\n",
    "result_log = np.log(array1)\n",
    "result_log2 = np.log2(array1)\n",
    "result_exp = np.exp(array1)\n",
    "\n",
    "print(\"Sin:\", result_sin)\n",
    "print(\"Log:\", result_log)\n",
    "print(\"Log2:\", result_log2)\n",
    "print(\"Exp:\", result_exp)\n"
   ]
  }
 ],
 "metadata": {
  "kernelspec": {
   "display_name": "Python 3",
   "language": "python",
   "name": "python3"
  },
  "language_info": {
   "codemirror_mode": {
    "name": "ipython",
    "version": 3
   },
   "file_extension": ".py",
   "mimetype": "text/x-python",
   "name": "python",
   "nbconvert_exporter": "python",
   "pygments_lexer": "ipython3",
   "version": "3.10.13"
  }
 },
 "nbformat": 4,
 "nbformat_minor": 2
}
