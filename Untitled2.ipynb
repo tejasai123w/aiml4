{
  "nbformat": 4,
  "nbformat_minor": 0,
  "metadata": {
    "colab": {
      "provenance": []
    },
    "kernelspec": {
      "name": "python3",
      "display_name": "Python 3"
    },
    "language_info": {
      "name": "python"
    }
  },
  "cells": [
    {
      "cell_type": "code",
      "execution_count": 2,
      "metadata": {
        "colab": {
          "base_uri": "https://localhost:8080/"
        },
        "id": "IEmQu5ycRP7c",
        "outputId": "9f8a0604-755c-472f-dacf-e1beeefee17c"
      },
      "outputs": [
        {
          "output_type": "stream",
          "name": "stdout",
          "text": [
            "Type of list1: <class 'list'>\n",
            "Type of array1: <class 'numpy.ndarray'>\n",
            "Multiplication: [ 6 14 24 36 50]\n",
            "Division: [6.         3.5        2.66666667 2.25       2.        ]\n",
            "Power of 2: [ 1  4  9 16 25]\n",
            "Addition of Two:\n",
            "array1 + array2\n",
            "Result: [ 7  9 11 13 15]\n",
            "Sin: [ 0.84147098  0.90929743  0.14112001 -0.7568025  -0.95892427]\n",
            "Log: [0.         0.69314718 1.09861229 1.38629436 1.60943791]\n",
            "Log2: [0.         1.         1.5849625  2.         2.32192809]\n",
            "Exponential: [  2.71828183   7.3890561   20.08553692  54.59815003 148.4131591 ]\n"
          ]
        }
      ],
      "source": [
        "\n",
        "import numpy as np\n",
        "\n",
        "list1 = [1, 2, 3, 4, 5]\n",
        "list2 = [6, 7, 8, 9, 10]\n",
        "\n",
        "array1 = np.array(list1)\n",
        "array2 = np.array(list2)\n",
        "\n",
        "print(\"Type of list1:\", type(list1))\n",
        "print(\"Type of array1:\", type(array1))\n",
        "\n",
        "result_multiply = array1 * array2\n",
        "print(\"Multiplication:\", result_multiply)\n",
        "\n",
        "\n",
        "result_divide = array2 / array1\n",
        "print(\"Division:\", result_divide)\n",
        "result_power = array1 ** 2\n",
        "print(\"Power of 2:\", result_power)\n",
        "\n",
        "text_output = f\"Addition of Two:\\narray1 + array2\\nResult: {array1 + array2}\"\n",
        "print(text_output)\n",
        "\n",
        "result_sin = np.sin(array1)\n",
        "result_log = np.log(array1)\n",
        "result_log2 = np.log2(array1)\n",
        "result_exp = np.exp(array1)\n",
        "\n",
        "print(\"Sin:\", result_sin)\n",
        "print(\"Log:\", result_log)\n",
        "print(\"Log2:\", result_log2)\n",
        "print(\"Exponential:\", result_exp)\n"
      ]
    },
    {
      "cell_type": "code",
      "source": [],
      "metadata": {
        "id": "3COvvYvyRS_O"
      },
      "execution_count": null,
      "outputs": []
    }
  ]
}